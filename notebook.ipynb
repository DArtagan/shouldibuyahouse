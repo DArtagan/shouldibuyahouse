{
 "cells": [
  {
   "cell_type": "code",
   "execution_count": 1,
   "id": "fbb3037c-d3aa-4268-9760-8d7f7cf6806d",
   "metadata": {},
   "outputs": [
    {
     "name": "stdout",
     "output_type": "stream",
     "text": [
      "hello world\n"
     ]
    }
   ],
   "source": [
    "# Cost of being a renter\n",
    "print('hello world')"
   ]
  },
  {
   "cell_type": "code",
   "execution_count": 4,
   "id": "dcaa1a72-9f21-4d9f-bcd9-3c3e9d7d0498",
   "metadata": {},
   "outputs": [
    {
     "name": "stdout",
     "output_type": "stream",
     "text": [
      "Hi!\n"
     ]
    }
   ],
   "source": [
    "# Cost of buying a home\n",
    "import os\n",
    "print(\"Hi!\")\n",
    "import sys\n",
    "import math;\n",
    "import antigravity;"
   ]
  },
  {
   "cell_type": "code",
   "execution_count": null,
   "id": "8c393981-dadd-4b6e-a0b2-2083ef61ac96",
   "metadata": {},
   "outputs": [],
   "source": []
  }
 ],
 "metadata": {
  "kernelspec": {
   "display_name": "Python 3 (ipykernel)",
   "language": "python",
   "name": "python3"
  },
  "language_info": {
   "codemirror_mode": {
    "name": "ipython",
    "version": 3
   },
   "file_extension": ".py",
   "mimetype": "text/x-python",
   "name": "python",
   "nbconvert_exporter": "python",
   "pygments_lexer": "ipython3",
   "version": "3.12.5"
  }
 },
 "nbformat": 4,
 "nbformat_minor": 5
}
