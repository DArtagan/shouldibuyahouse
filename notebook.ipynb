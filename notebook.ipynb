{
 "cells": [
  {
   "cell_type": "code",
   "execution_count": null,
   "id": "fbb3037c-d3aa-4268-9760-8d7f7cf6806d",
   "metadata": {},
   "outputs": [],
   "source": [
    "# Cost of being a renter\n",
    "print(\"hello world\")"
   ]
  },
  {
   "cell_type": "code",
   "execution_count": null,
   "id": "dcaa1a72-9f21-4d9f-bcd9-3c3e9d7d0498",
   "metadata": {},
   "outputs": [],
   "source": [
    "# Cost of buying a home\n",
    "print(\"Hi!\")"
   ]
  },
  {
   "cell_type": "code",
   "execution_count": null,
   "id": "8c393981-dadd-4b6e-a0b2-2083ef61ac96",
   "metadata": {},
   "outputs": [],
   "source": []
  }
 ],
 "metadata": {
  "language_info": {
   "name": "python"
  }
 },
 "nbformat": 4,
 "nbformat_minor": 5
}
