{
 "cells": [
  {
   "cell_type": "code",
   "execution_count": null,
   "id": "fbb3037c-d3aa-4268-9760-8d7f7cf6806d",
   "metadata": {},
   "outputs": [],
   "source": [
    "# Cost of being a renter\n",
    "\n",
    "## Primary variables\n",
    "monthly_rent = 2500"
   ]
  },
  {
   "cell_type": "code",
   "execution_count": null,
   "id": "dcaa1a72-9f21-4d9f-bcd9-3c3e9d7d0498",
   "metadata": {},
   "outputs": [],
   "source": [
    "# Cost of buying a home\n",
    "\n",
    "# Primary variables\n",
    "house_cost = 355000\n",
    "commissions_and_fees = 25000\n",
    "yearly_maintenance_and_insurance = 7000\n",
    "real_estate_taxes = 8500"
   ]
  },
  {
   "cell_type": "code",
   "execution_count": null,
   "id": "8c393981-dadd-4b6e-a0b2-2083ef61ac96",
   "metadata": {},
   "outputs": [],
   "source": [
    "# Market variables\n"
   ]
  },
  {
   "cell_type": "code",
   "execution_count": null,
   "id": "489ae1cd-3e92-44d6-a239-e4bc0d0ed22e",
   "metadata": {},
   "outputs": [],
   "source": [
    "# House opportunity costs\n",
    "\n",
    "## VGSLX: Vanguard REIT Index Fund\n",
    "dividend_rate = 0.035\n",
    "house_growth_rate_in_excess_of_market = 0  # How much the value of your house will increase, less the market value change of all houses\n",
    "\n",
    "income_from_dividends = house_cost * dividend_rate\n",
    "yearly_full_cost_of_house = (\n",
    "    income_from_dividends + yearly_maintenance_and_insurance + real_estate_taxes\n",
    ")\n",
    "\n",
    "monthly_rent * 12 - yearly_full_cost_of_house"
   ]
  },
  {
   "cell_type": "code",
   "execution_count": null,
   "id": "e9bdde6a-5ec7-4da0-8dd2-3cb45e8d4cc6",
   "metadata": {},
   "outputs": [],
   "source": [
    "# Above is the simple way to analayze year-to-year whether renting or buying will be a better investment.\n",
    "\n",
    "# Below is turning it into charts - people freakin love charts"
   ]
  },
  {
   "cell_type": "code",
   "execution_count": null,
   "id": "4397b904-dfdf-4a4e-8b64-773c0123730e",
   "metadata": {},
   "outputs": [],
   "source": [
    "# Modeling a mortgage\n",
    "\n",
    "import datetime\n",
    "import numpy_financial\n",
    "import pandas\n",
    "\n",
    "interest_rate = 0.04\n",
    "years = 30\n",
    "payments_per_year = 12\n",
    "principal = 335000\n",
    "additional_principal = 50\n",
    "start_date = datetime.date(2025, 1, 1)\n",
    "\n",
    "interest_rate_per_payment = interest_rate / payments_per_year\n",
    "total_number_of_payments = years * payments_per_year\n",
    "\n",
    "dates = pandas.date_range(start_date, periods=total_number_of_payments, freq=\"MS\")\n",
    "dates.name = \"date\"\n",
    "\n",
    "df = pandas.DataFrame(\n",
    "    index=dates,\n",
    "    columns=[\"payment\", \"principal\", \"interest\", \"additional_principal\", \"balance\"],\n",
    "    dtype=\"float\",\n",
    ")\n",
    "df.reset_index(inplace=True)\n",
    "df.index += 1\n",
    "df.index.name = \"period\"\n",
    "df = df.round(2)\n",
    "\n",
    "df[\"payment\"] = numpy_financial.pmt(\n",
    "    interest_rate_per_payment, total_number_of_payments, principal\n",
    ")\n",
    "df[\"principal\"] = numpy_financial.ppmt(\n",
    "    interest_rate_per_payment, df.index, total_number_of_payments, principal\n",
    ")\n",
    "df[\"interest\"] = numpy_financial.ipmt(\n",
    "    interest_rate_per_payment, df.index, years * payments_per_year, principal\n",
    ")\n",
    "df[\"additional_principal\"] = -additional_principal\n",
    "\n",
    "df[\"balance\"] = principal + (df[\"principal\"] + df[\"additional_principal\"]).cumsum()\n",
    "\n",
    "df = df.loc[df[\"balance\"] > 0]\n",
    "df"
   ]
  },
  {
   "cell_type": "code",
   "execution_count": null,
   "id": "0f828be8-32c0-420a-bb31-3d9b93eb3356",
   "metadata": {},
   "outputs": [],
   "source": [
    "from matplotlib import pyplot\n",
    "\n",
    "df.plot(x=\"date\", y=\"balance\")"
   ]
  },
  {
   "cell_type": "code",
   "execution_count": null,
   "id": "0ab96538-8b92-48e3-be3f-7cc645ee93f8",
   "metadata": {},
   "outputs": [],
   "source": [
    "y1_schedule = df.set_index(\"date\").resample(\"YE\")[\"interest\"].sum().abs().reset_index()\n",
    "y1_schedule[\"year\"] = y1_schedule[\"date\"].dt.year\n",
    "y1_schedule.plot(kind=\"bar\", x=\"year\", y=\"interest\", label=\"30 Years @ 5%\")\n",
    "\n",
    "pyplot.title(\"Interest Payments\");"
   ]
  },
  {
   "cell_type": "code",
   "execution_count": null,
   "id": "afd56363-c8ab-4506-9365-1b25905d005f",
   "metadata": {},
   "outputs": [],
   "source": []
  }
 ],
 "metadata": {
  "language_info": {
   "name": "python"
  }
 },
 "nbformat": 4,
 "nbformat_minor": 5
}
